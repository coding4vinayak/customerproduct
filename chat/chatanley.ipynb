{
 "cells": [
  {
   "cell_type": "code",
   "execution_count": 1,
   "metadata": {},
   "outputs": [
    {
     "name": "stdout",
     "output_type": "stream",
     "text": [
      "Collecting ably\n",
      "  Downloading ably-2.0.6-py3-none-any.whl.metadata (2.2 kB)\n",
      "Requirement already satisfied: h2<5.0.0,>=4.1.0 in /system/conda/miniconda3/envs/cloudspace/lib/python3.10/site-packages (from ably) (4.1.0)\n",
      "Requirement already satisfied: httpx<1.0,>=0.25.0 in /system/conda/miniconda3/envs/cloudspace/lib/python3.10/site-packages (from ably) (0.27.0)\n",
      "Collecting methoddispatch<4.0.0,>=3.0.2 (from ably)\n",
      "  Downloading methoddispatch-3.0.2-py2.py3-none-any.whl.metadata (7.2 kB)\n",
      "Collecting msgpack<2.0.0,>=1.0.0 (from ably)\n",
      "  Downloading msgpack-1.0.8-cp310-cp310-manylinux_2_17_x86_64.manylinux2014_x86_64.whl.metadata (9.1 kB)\n",
      "Collecting pyee<12.0.0,>=11.1.0 (from ably)\n",
      "  Downloading pyee-11.1.0-py3-none-any.whl.metadata (2.8 kB)\n",
      "Requirement already satisfied: websockets<13.0,>=10.0 in /system/conda/miniconda3/envs/cloudspace/lib/python3.10/site-packages (from ably) (12.0)\n",
      "Requirement already satisfied: hyperframe<7,>=6.0 in /system/conda/miniconda3/envs/cloudspace/lib/python3.10/site-packages (from h2<5.0.0,>=4.1.0->ably) (6.0.1)\n",
      "Requirement already satisfied: hpack<5,>=4.0 in /system/conda/miniconda3/envs/cloudspace/lib/python3.10/site-packages (from h2<5.0.0,>=4.1.0->ably) (4.0.0)\n",
      "Requirement already satisfied: anyio in /system/conda/miniconda3/envs/cloudspace/lib/python3.10/site-packages (from httpx<1.0,>=0.25.0->ably) (4.4.0)\n",
      "Requirement already satisfied: certifi in /system/conda/miniconda3/envs/cloudspace/lib/python3.10/site-packages (from httpx<1.0,>=0.25.0->ably) (2024.6.2)\n",
      "Requirement already satisfied: httpcore==1.* in /system/conda/miniconda3/envs/cloudspace/lib/python3.10/site-packages (from httpx<1.0,>=0.25.0->ably) (1.0.5)\n",
      "Requirement already satisfied: idna in /system/conda/miniconda3/envs/cloudspace/lib/python3.10/site-packages (from httpx<1.0,>=0.25.0->ably) (3.7)\n",
      "Requirement already satisfied: sniffio in /system/conda/miniconda3/envs/cloudspace/lib/python3.10/site-packages (from httpx<1.0,>=0.25.0->ably) (1.3.1)\n",
      "Requirement already satisfied: h11<0.15,>=0.13 in /system/conda/miniconda3/envs/cloudspace/lib/python3.10/site-packages (from httpcore==1.*->httpx<1.0,>=0.25.0->ably) (0.14.0)\n",
      "Requirement already satisfied: typing-extensions in /system/conda/miniconda3/envs/cloudspace/lib/python3.10/site-packages (from pyee<12.0.0,>=11.1.0->ably) (4.12.1)\n",
      "Requirement already satisfied: exceptiongroup>=1.0.2 in /system/conda/miniconda3/envs/cloudspace/lib/python3.10/site-packages (from anyio->httpx<1.0,>=0.25.0->ably) (1.2.1)\n",
      "Downloading ably-2.0.6-py3-none-any.whl (118 kB)\n",
      "\u001b[2K   \u001b[90m━━━━━━━━━━━━━━━━━━━━━━━━━━━━━━━━━━━━━━━━\u001b[0m \u001b[32m118.3/118.3 kB\u001b[0m \u001b[31m8.6 MB/s\u001b[0m eta \u001b[36m0:00:00\u001b[0m\n",
      "\u001b[?25hDownloading methoddispatch-3.0.2-py2.py3-none-any.whl (15 kB)\n",
      "Downloading msgpack-1.0.8-cp310-cp310-manylinux_2_17_x86_64.manylinux2014_x86_64.whl (385 kB)\n",
      "\u001b[2K   \u001b[90m━━━━━━━━━━━━━━━━━━━━━━━━━━━━━━━━━━━━━━━━\u001b[0m \u001b[32m385.1/385.1 kB\u001b[0m \u001b[31m14.2 MB/s\u001b[0m eta \u001b[36m0:00:00\u001b[0m\n",
      "\u001b[?25hDownloading pyee-11.1.0-py3-none-any.whl (15 kB)\n",
      "Installing collected packages: methoddispatch, pyee, msgpack, ably\n",
      "Successfully installed ably-2.0.6 methoddispatch-3.0.2 msgpack-1.0.8 pyee-11.1.0\n",
      "Collecting asyncio\n",
      "  Downloading asyncio-3.4.3-py3-none-any.whl.metadata (1.7 kB)\n",
      "Downloading asyncio-3.4.3-py3-none-any.whl (101 kB)\n",
      "\u001b[2K   \u001b[90m━━━━━━━━━━━━━━━━━━━━━━━━━━━━━━━━━━━━━━━━\u001b[0m \u001b[32m101.8/101.8 kB\u001b[0m \u001b[31m8.7 MB/s\u001b[0m eta \u001b[36m0:00:00\u001b[0m\n",
      "\u001b[?25hInstalling collected packages: asyncio\n",
      "Successfully installed asyncio-3.4.3\n"
     ]
    }
   ],
   "source": [
    "%%bash\n",
    "\n",
    "pip install ably\n",
    "pip install asyncio"
   ]
  },
  {
   "cell_type": "code",
   "execution_count": 3,
   "metadata": {},
   "outputs": [
    {
     "ename": "RuntimeError",
     "evalue": "asyncio.run() cannot be called from a running event loop",
     "output_type": "error",
     "traceback": [
      "\u001b[0;31m---------------------------------------------------------------------------\u001b[0m",
      "\u001b[0;31mRuntimeError\u001b[0m                              Traceback (most recent call last)",
      "Cell \u001b[0;32mIn[3], line 27\u001b[0m\n\u001b[1;32m     24\u001b[0m   \u001b[38;5;28;01mawait\u001b[39;00m ably\u001b[38;5;241m.\u001b[39mclose()\n\u001b[1;32m     25\u001b[0m   \u001b[38;5;28mprint\u001b[39m(\u001b[38;5;124m'\u001b[39m\u001b[38;5;124mClosed the connection to Ably.\u001b[39m\u001b[38;5;124m'\u001b[39m)\n\u001b[0;32m---> 27\u001b[0m \u001b[43masyncio\u001b[49m\u001b[38;5;241;43m.\u001b[39;49m\u001b[43mrun\u001b[49m\u001b[43m(\u001b[49m\u001b[43mmain\u001b[49m\u001b[43m(\u001b[49m\u001b[43m)\u001b[49m\u001b[43m)\u001b[49m\n",
      "File \u001b[0;32m/home/zeus/miniconda3/envs/cloudspace/lib/python3.10/asyncio/runners.py:33\u001b[0m, in \u001b[0;36mrun\u001b[0;34m(main, debug)\u001b[0m\n\u001b[1;32m      9\u001b[0m \u001b[38;5;250m\u001b[39m\u001b[38;5;124;03m\"\"\"Execute the coroutine and return the result.\u001b[39;00m\n\u001b[1;32m     10\u001b[0m \n\u001b[1;32m     11\u001b[0m \u001b[38;5;124;03mThis function runs the passed coroutine, taking care of\u001b[39;00m\n\u001b[0;32m   (...)\u001b[0m\n\u001b[1;32m     30\u001b[0m \u001b[38;5;124;03m    asyncio.run(main())\u001b[39;00m\n\u001b[1;32m     31\u001b[0m \u001b[38;5;124;03m\"\"\"\u001b[39;00m\n\u001b[1;32m     32\u001b[0m \u001b[38;5;28;01mif\u001b[39;00m events\u001b[38;5;241m.\u001b[39m_get_running_loop() \u001b[38;5;129;01mis\u001b[39;00m \u001b[38;5;129;01mnot\u001b[39;00m \u001b[38;5;28;01mNone\u001b[39;00m:\n\u001b[0;32m---> 33\u001b[0m     \u001b[38;5;28;01mraise\u001b[39;00m \u001b[38;5;167;01mRuntimeError\u001b[39;00m(\n\u001b[1;32m     34\u001b[0m         \u001b[38;5;124m\"\u001b[39m\u001b[38;5;124masyncio.run() cannot be called from a running event loop\u001b[39m\u001b[38;5;124m\"\u001b[39m)\n\u001b[1;32m     36\u001b[0m \u001b[38;5;28;01mif\u001b[39;00m \u001b[38;5;129;01mnot\u001b[39;00m coroutines\u001b[38;5;241m.\u001b[39miscoroutine(main):\n\u001b[1;32m     37\u001b[0m     \u001b[38;5;28;01mraise\u001b[39;00m \u001b[38;5;167;01mValueError\u001b[39;00m(\u001b[38;5;124m\"\u001b[39m\u001b[38;5;124ma coroutine was expected, got \u001b[39m\u001b[38;5;132;01m{!r}\u001b[39;00m\u001b[38;5;124m\"\u001b[39m\u001b[38;5;241m.\u001b[39mformat(main))\n",
      "\u001b[0;31mRuntimeError\u001b[0m: asyncio.run() cannot be called from a running event loop"
     ]
    }
   ],
   "source": [
    "import asyncio\n",
    "import time\n",
    "from ably import AblyRealtime\n",
    "\n",
    "async def main():\n",
    "\n",
    "  # Connect to Ably with your API key\n",
    "  ably = AblyRealtime('And9Qw.2aEcfA:0muwgiZ7vX4n1fuFC-SrWqzwahW9welgjJROCWtDTYU')\n",
    "  await ably.connection.once_async('connected')\n",
    "  print('Connected to Ably')\n",
    "\n",
    "  # Create a channel called 'get-started' and register a listener to subscribe to all messages with the name 'first'\n",
    "  channel = ably.channels.get('get-started')\n",
    "  def listener(message):\n",
    "      print('Message received: ' + message.data)\n",
    "  await channel.subscribe('first', listener)\n",
    "\n",
    "  # Publish a message with the name 'first' and the contents 'Here is my first message!'\n",
    "  time.sleep(1)\n",
    "  await channel.publish('first', 'Here is my first message!')\n",
    "\n",
    "  # Close the connection to Ably after a 5 second delay\n",
    "  time.sleep(5)\n",
    "  await ably.close()\n",
    "  print('Closed the connection to Ably.')\n",
    "\n",
    "asyncio.run(main())\n"
   ]
  }
 ],
 "metadata": {
  "language_info": {
   "name": "python"
  }
 },
 "nbformat": 4,
 "nbformat_minor": 2
}
