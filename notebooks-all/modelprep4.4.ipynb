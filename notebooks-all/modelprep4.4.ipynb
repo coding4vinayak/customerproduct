{
 "cells": [
  {
   "cell_type": "markdown",
   "metadata": {},
   "source": [
    "Time series-specific models¶\n",
    "LSTMs\n",
    "DeepAR models\n",
    "AutoArima\n",
    "ETS, aka exponential smoothing\n",
    "TBATS\n",
    "Prophet"
   ]
  },
  {
   "cell_type": "code",
   "execution_count": null,
   "metadata": {},
   "outputs": [],
   "source": []
  }
 ],
 "metadata": {
  "language_info": {
   "name": "python"
  }
 },
 "nbformat": 4,
 "nbformat_minor": 2
}
